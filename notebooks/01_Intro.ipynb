{
  "nbformat": 4,
  "nbformat_minor": 0,
  "metadata": {
    "colab": {
      "provenance": [],
      "collapsed_sections": [],
      "authorship_tag": "ABX9TyMlC8w67E/bRwDcQUdQx8rk",
      "include_colab_link": true
    },
    "kernelspec": {
      "name": "python3",
      "display_name": "Python 3"
    },
    "language_info": {
      "name": "python"
    }
  },
  "cells": [
    {
      "cell_type": "markdown",
      "metadata": {
        "id": "view-in-github",
        "colab_type": "text"
      },
      "source": [
        "<a href=\"https://colab.research.google.com/github/almemanuel/machine-learning/blob/main/notebooks/01_Intro.ipynb\" target=\"_parent\"><img src=\"https://colab.research.google.com/assets/colab-badge.svg\" alt=\"Open In Colab\"/></a>"
      ]
    },
    {
      "cell_type": "code",
      "source": [
        "import pandas as pd"
      ],
      "metadata": {
        "id": "zE6X2brceVEP"
      },
      "execution_count": null,
      "outputs": []
    },
    {
      "cell_type": "markdown",
      "source": [
        "# Machine Learning"
      ],
      "metadata": {
        "id": "e9qMildycifZ"
      }
    },
    {
      "cell_type": "markdown",
      "source": [
        "It is a process of training an algorithm/model\n",
        "\n",
        "From a set of data, it makes it possible to obtain new information"
      ],
      "metadata": {
        "id": "eyOvQSw-clAK"
      }
    },
    {
      "cell_type": "markdown",
      "source": [
        "## Example:\n",
        "Algorithm that takes a color and returns which fruit has that color"
      ],
      "metadata": {
        "id": "m2eS0hSOc3lD"
      }
    },
    {
      "cell_type": "code",
      "source": [
        "def get_a_fruit_with_this_color(color:str) -> str:\n",
        "    \"\"\"\n",
        "    Function that returns a fruit that is of the input color\n",
        "\n",
        "    Entries:\n",
        "        color (str): desired color\n",
        "    Return:\n",
        "        (str): fruit with the desired color\n",
        "    \"\"\"\n",
        "    if color == 'orange':\n",
        "        return 'orange'\n",
        "    elif color == 'yellow':\n",
        "        return 'banana'\n",
        "    elif color == 'red':\n",
        "        return 'strawberry'\n",
        "    else:\n",
        "        return 'any fruit'"
      ],
      "metadata": {
        "id": "540n-_d0c-wx"
      },
      "execution_count": null,
      "outputs": []
    },
    {
      "cell_type": "code",
      "source": [
        "get_a_fruit_with_this_color('orange')"
      ],
      "metadata": {
        "colab": {
          "base_uri": "https://localhost:8080/",
          "height": 35
        },
        "id": "ofxyh1Oidl9s",
        "outputId": "8ef00b62-2445-4cc1-b9d1-9e0ba464105f"
      },
      "execution_count": null,
      "outputs": [
        {
          "output_type": "execute_result",
          "data": {
            "text/plain": [
              "'orange'"
            ],
            "application/vnd.google.colaboratory.intrinsic+json": {
              "type": "string"
            }
          },
          "metadata": {},
          "execution_count": 3
        }
      ]
    },
    {
      "cell_type": "code",
      "source": [
        "get_a_fruit_with_this_color('yellow')"
      ],
      "metadata": {
        "colab": {
          "base_uri": "https://localhost:8080/",
          "height": 35
        },
        "id": "3Qay3mofdv1R",
        "outputId": "1e0db8b1-820e-48dd-b764-bafd05c281e9"
      },
      "execution_count": null,
      "outputs": [
        {
          "output_type": "execute_result",
          "data": {
            "text/plain": [
              "'banana'"
            ],
            "application/vnd.google.colaboratory.intrinsic+json": {
              "type": "string"
            }
          },
          "metadata": {},
          "execution_count": 4
        }
      ]
    },
    {
      "cell_type": "markdown",
      "source": [
        "Generally, in Machine Learning we do not write the functions, but rather, we provide the data and the algorithm itself does the modeling"
      ],
      "metadata": {
        "id": "mDljheCYd-sN"
      }
    },
    {
      "cell_type": "code",
      "source": [
        "fruits = pd.DataFrame(\n",
        "    {\n",
        "        'color': ['green', 'green', 'orange', 'orange', 'orange', 'orange', \n",
        "                  'orange', 'yellow', 'yellow', 'red', 'red', 'red', 'red',\n",
        "                  'red', 'red'],\n",
        "        'height': [7, 7, 8, 9, 10, 8, 9, 12, 13, 3, 4, 5, 3, 2, 2],\n",
        "        'classification': ['green apple', 'green apple', 'orange', 'tangerine',\n",
        "                           'orange', 'tangerine', 'tangerine', 'banana',\n",
        "                           'banana', 'strawberry', 'apple', 'strawberry',\n",
        "                           'strawberry', 'strawberry', 'strawberry']\n",
        "    }\n",
        ")\n",
        "\n",
        "fruits"
      ],
      "metadata": {
        "colab": {
          "base_uri": "https://localhost:8080/",
          "height": 520
        },
        "id": "dQ0IUBS8ePD9",
        "outputId": "8b1ecefe-73a2-4e9c-a9fd-1fda71eb19ae"
      },
      "execution_count": null,
      "outputs": [
        {
          "output_type": "execute_result",
          "data": {
            "text/plain": [
              "     color  height classification\n",
              "0    green       7    green apple\n",
              "1    green       7    green apple\n",
              "2   orange       8         orange\n",
              "3   orange       9      tangerine\n",
              "4   orange      10         orange\n",
              "5   orange       8      tangerine\n",
              "6   orange       9      tangerine\n",
              "7   yellow      12         banana\n",
              "8   yellow      13         banana\n",
              "9      red       3     strawberry\n",
              "10     red       4          apple\n",
              "11     red       5     strawberry\n",
              "12     red       3     strawberry\n",
              "13     red       2     strawberry\n",
              "14     red       2     strawberry"
            ],
            "text/html": [
              "\n",
              "  <div id=\"df-81c8eab9-7dcd-44fe-a314-a8fbd08374bf\">\n",
              "    <div class=\"colab-df-container\">\n",
              "      <div>\n",
              "<style scoped>\n",
              "    .dataframe tbody tr th:only-of-type {\n",
              "        vertical-align: middle;\n",
              "    }\n",
              "\n",
              "    .dataframe tbody tr th {\n",
              "        vertical-align: top;\n",
              "    }\n",
              "\n",
              "    .dataframe thead th {\n",
              "        text-align: right;\n",
              "    }\n",
              "</style>\n",
              "<table border=\"1\" class=\"dataframe\">\n",
              "  <thead>\n",
              "    <tr style=\"text-align: right;\">\n",
              "      <th></th>\n",
              "      <th>color</th>\n",
              "      <th>height</th>\n",
              "      <th>classification</th>\n",
              "    </tr>\n",
              "  </thead>\n",
              "  <tbody>\n",
              "    <tr>\n",
              "      <th>0</th>\n",
              "      <td>green</td>\n",
              "      <td>7</td>\n",
              "      <td>green apple</td>\n",
              "    </tr>\n",
              "    <tr>\n",
              "      <th>1</th>\n",
              "      <td>green</td>\n",
              "      <td>7</td>\n",
              "      <td>green apple</td>\n",
              "    </tr>\n",
              "    <tr>\n",
              "      <th>2</th>\n",
              "      <td>orange</td>\n",
              "      <td>8</td>\n",
              "      <td>orange</td>\n",
              "    </tr>\n",
              "    <tr>\n",
              "      <th>3</th>\n",
              "      <td>orange</td>\n",
              "      <td>9</td>\n",
              "      <td>tangerine</td>\n",
              "    </tr>\n",
              "    <tr>\n",
              "      <th>4</th>\n",
              "      <td>orange</td>\n",
              "      <td>10</td>\n",
              "      <td>orange</td>\n",
              "    </tr>\n",
              "    <tr>\n",
              "      <th>5</th>\n",
              "      <td>orange</td>\n",
              "      <td>8</td>\n",
              "      <td>tangerine</td>\n",
              "    </tr>\n",
              "    <tr>\n",
              "      <th>6</th>\n",
              "      <td>orange</td>\n",
              "      <td>9</td>\n",
              "      <td>tangerine</td>\n",
              "    </tr>\n",
              "    <tr>\n",
              "      <th>7</th>\n",
              "      <td>yellow</td>\n",
              "      <td>12</td>\n",
              "      <td>banana</td>\n",
              "    </tr>\n",
              "    <tr>\n",
              "      <th>8</th>\n",
              "      <td>yellow</td>\n",
              "      <td>13</td>\n",
              "      <td>banana</td>\n",
              "    </tr>\n",
              "    <tr>\n",
              "      <th>9</th>\n",
              "      <td>red</td>\n",
              "      <td>3</td>\n",
              "      <td>strawberry</td>\n",
              "    </tr>\n",
              "    <tr>\n",
              "      <th>10</th>\n",
              "      <td>red</td>\n",
              "      <td>4</td>\n",
              "      <td>apple</td>\n",
              "    </tr>\n",
              "    <tr>\n",
              "      <th>11</th>\n",
              "      <td>red</td>\n",
              "      <td>5</td>\n",
              "      <td>strawberry</td>\n",
              "    </tr>\n",
              "    <tr>\n",
              "      <th>12</th>\n",
              "      <td>red</td>\n",
              "      <td>3</td>\n",
              "      <td>strawberry</td>\n",
              "    </tr>\n",
              "    <tr>\n",
              "      <th>13</th>\n",
              "      <td>red</td>\n",
              "      <td>2</td>\n",
              "      <td>strawberry</td>\n",
              "    </tr>\n",
              "    <tr>\n",
              "      <th>14</th>\n",
              "      <td>red</td>\n",
              "      <td>2</td>\n",
              "      <td>strawberry</td>\n",
              "    </tr>\n",
              "  </tbody>\n",
              "</table>\n",
              "</div>\n",
              "      <button class=\"colab-df-convert\" onclick=\"convertToInteractive('df-81c8eab9-7dcd-44fe-a314-a8fbd08374bf')\"\n",
              "              title=\"Convert this dataframe to an interactive table.\"\n",
              "              style=\"display:none;\">\n",
              "        \n",
              "  <svg xmlns=\"http://www.w3.org/2000/svg\" height=\"24px\"viewBox=\"0 0 24 24\"\n",
              "       width=\"24px\">\n",
              "    <path d=\"M0 0h24v24H0V0z\" fill=\"none\"/>\n",
              "    <path d=\"M18.56 5.44l.94 2.06.94-2.06 2.06-.94-2.06-.94-.94-2.06-.94 2.06-2.06.94zm-11 1L8.5 8.5l.94-2.06 2.06-.94-2.06-.94L8.5 2.5l-.94 2.06-2.06.94zm10 10l.94 2.06.94-2.06 2.06-.94-2.06-.94-.94-2.06-.94 2.06-2.06.94z\"/><path d=\"M17.41 7.96l-1.37-1.37c-.4-.4-.92-.59-1.43-.59-.52 0-1.04.2-1.43.59L10.3 9.45l-7.72 7.72c-.78.78-.78 2.05 0 2.83L4 21.41c.39.39.9.59 1.41.59.51 0 1.02-.2 1.41-.59l7.78-7.78 2.81-2.81c.8-.78.8-2.07 0-2.86zM5.41 20L4 18.59l7.72-7.72 1.47 1.35L5.41 20z\"/>\n",
              "  </svg>\n",
              "      </button>\n",
              "      \n",
              "  <style>\n",
              "    .colab-df-container {\n",
              "      display:flex;\n",
              "      flex-wrap:wrap;\n",
              "      gap: 12px;\n",
              "    }\n",
              "\n",
              "    .colab-df-convert {\n",
              "      background-color: #E8F0FE;\n",
              "      border: none;\n",
              "      border-radius: 50%;\n",
              "      cursor: pointer;\n",
              "      display: none;\n",
              "      fill: #1967D2;\n",
              "      height: 32px;\n",
              "      padding: 0 0 0 0;\n",
              "      width: 32px;\n",
              "    }\n",
              "\n",
              "    .colab-df-convert:hover {\n",
              "      background-color: #E2EBFA;\n",
              "      box-shadow: 0px 1px 2px rgba(60, 64, 67, 0.3), 0px 1px 3px 1px rgba(60, 64, 67, 0.15);\n",
              "      fill: #174EA6;\n",
              "    }\n",
              "\n",
              "    [theme=dark] .colab-df-convert {\n",
              "      background-color: #3B4455;\n",
              "      fill: #D2E3FC;\n",
              "    }\n",
              "\n",
              "    [theme=dark] .colab-df-convert:hover {\n",
              "      background-color: #434B5C;\n",
              "      box-shadow: 0px 1px 3px 1px rgba(0, 0, 0, 0.15);\n",
              "      filter: drop-shadow(0px 1px 2px rgba(0, 0, 0, 0.3));\n",
              "      fill: #FFFFFF;\n",
              "    }\n",
              "  </style>\n",
              "\n",
              "      <script>\n",
              "        const buttonEl =\n",
              "          document.querySelector('#df-81c8eab9-7dcd-44fe-a314-a8fbd08374bf button.colab-df-convert');\n",
              "        buttonEl.style.display =\n",
              "          google.colab.kernel.accessAllowed ? 'block' : 'none';\n",
              "\n",
              "        async function convertToInteractive(key) {\n",
              "          const element = document.querySelector('#df-81c8eab9-7dcd-44fe-a314-a8fbd08374bf');\n",
              "          const dataTable =\n",
              "            await google.colab.kernel.invokeFunction('convertToInteractive',\n",
              "                                                     [key], {});\n",
              "          if (!dataTable) return;\n",
              "\n",
              "          const docLinkHtml = 'Like what you see? Visit the ' +\n",
              "            '<a target=\"_blank\" href=https://colab.research.google.com/notebooks/data_table.ipynb>data table notebook</a>'\n",
              "            + ' to learn more about interactive tables.';\n",
              "          element.innerHTML = '';\n",
              "          dataTable['output_type'] = 'display_data';\n",
              "          await google.colab.output.renderOutput(dataTable, element);\n",
              "          const docLink = document.createElement('div');\n",
              "          docLink.innerHTML = docLinkHtml;\n",
              "          element.appendChild(docLink);\n",
              "        }\n",
              "      </script>\n",
              "    </div>\n",
              "  </div>\n",
              "  "
            ]
          },
          "metadata": {},
          "execution_count": 7
        }
      ]
    },
    {
      "cell_type": "markdown",
      "source": [
        "Within the Machine Learning field, there are classification and regression algorithms, among many others"
      ],
      "metadata": {
        "id": "eQj0gcGXf4kY"
      }
    },
    {
      "cell_type": "markdown",
      "source": [
        "## What is the difference between Machine Learning and AI?\n",
        "\n",
        "Machine Learning is one branch of Artificial Intelligence. Therefore, Artificial Intelligence encompasses the entire field of Machine Learning, but Machine Learning does not encompass every type of Artificial Intelligence"
      ],
      "metadata": {
        "id": "L5knPo7NgD6j"
      }
    }
  ]
}